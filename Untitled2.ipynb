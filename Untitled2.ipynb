{
  "nbformat": 4,
  "nbformat_minor": 0,
  "metadata": {
    "colab": {
      "name": "Untitled2.ipynb",
      "provenance": [],
      "collapsed_sections": [],
      "authorship_tag": "ABX9TyMiXaKqbosyKfwOtUP6d2Vg",
      "include_colab_link": true
    },
    "kernelspec": {
      "name": "python3",
      "display_name": "Python 3"
    }
  },
  "cells": [
    {
      "cell_type": "markdown",
      "metadata": {
        "id": "view-in-github",
        "colab_type": "text"
      },
      "source": [
        "<a href=\"https://colab.research.google.com/github/navyajain16/Image-Deblurring/blob/main/Untitled2.ipynb\" target=\"_parent\"><img src=\"https://colab.research.google.com/assets/colab-badge.svg\" alt=\"Open In Colab\"/></a>"
      ]
    },
    {
      "cell_type": "code",
      "metadata": {
        "colab": {
          "resources": {
            "http://localhost:8080/nbextensions/google.colab/files.js": {
              "data": "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",
              "ok": true,
              "headers": [
                [
                  "content-type",
                  "application/javascript"
                ]
              ],
              "status": 200,
              "status_text": ""
            }
          },
          "base_uri": "https://localhost:8080/",
          "height": 72
        },
        "id": "gLN1XCfw_8sU",
        "outputId": "c45357a9-8cd9-4c01-c3ce-f97678902e8b"
      },
      "source": [
        "from google.colab import files\r\n",
        "\r\n",
        "uploaded = files.upload()"
      ],
      "execution_count": null,
      "outputs": [
        {
          "output_type": "display_data",
          "data": {
            "text/html": [
              "\n",
              "     <input type=\"file\" id=\"files-7b0273ef-e16b-4dda-a121-58f92dfd3b4a\" name=\"files[]\" multiple disabled\n",
              "        style=\"border:none\" />\n",
              "     <output id=\"result-7b0273ef-e16b-4dda-a121-58f92dfd3b4a\">\n",
              "      Upload widget is only available when the cell has been executed in the\n",
              "      current browser session. Please rerun this cell to enable.\n",
              "      </output>\n",
              "      <script src=\"/nbextensions/google.colab/files.js\"></script> "
            ],
            "text/plain": [
              "<IPython.core.display.HTML object>"
            ]
          },
          "metadata": {
            "tags": []
          }
        },
        {
          "output_type": "stream",
          "text": [
            "Saving small_clouds.zip to small_clouds.zip\n"
          ],
          "name": "stdout"
        }
      ]
    },
    {
      "cell_type": "code",
      "metadata": {
        "colab": {
          "base_uri": "https://localhost:8080/"
        },
        "id": "jhHAG4keBpxe",
        "outputId": "5f291355-cd22-4823-8f1c-3c9b9d6bf3ba"
      },
      "source": [
        "!unzip small_clouds.zip "
      ],
      "execution_count": null,
      "outputs": [
        {
          "output_type": "stream",
          "text": [
            "Archive:  small_clouds.zip\n",
            "  inflating: A_0img.png              \n",
            "  inflating: A_2img.png              \n",
            "  inflating: A_3img.png              \n",
            "  inflating: A_4img.png              \n",
            "  inflating: A_5img.png              \n",
            "  inflating: A_6img.png              \n",
            "  inflating: A_7img.png              \n",
            "  inflating: A_8img.png              \n",
            "  inflating: A_9img.png              \n",
            "  inflating: A_10img.png             \n",
            "  inflating: A_11img.png             \n",
            "  inflating: A_12img.png             \n",
            "  inflating: A_13img.png             \n",
            "  inflating: A_14img.png             \n",
            "  inflating: A_15img.png             \n",
            "  inflating: A_16img.png             \n",
            "  inflating: A_17img.png             \n",
            "  inflating: A_18img.png             \n",
            "  inflating: A_19img.png             \n",
            "  inflating: A_20img.png             \n",
            "  inflating: A_21img.png             \n",
            "  inflating: A_22img.png             \n",
            "  inflating: A_23img.png             \n",
            "  inflating: A_24img.png             \n",
            "  inflating: A_25img.png             \n",
            "  inflating: A_26img.png             \n",
            "  inflating: A_27img.png             \n",
            "  inflating: A_28img.png             \n",
            "  inflating: A_29img.png             \n",
            "  inflating: A_30img.png             \n",
            "  inflating: A_31img.png             \n",
            "  inflating: A_32img.png             \n",
            "  inflating: A_33img.png             \n",
            "  inflating: A_34img.png             \n",
            "  inflating: A_35img.png             \n",
            "  inflating: A_36img.png             \n",
            "  inflating: A_37img.png             \n",
            "  inflating: A_38img.png             \n",
            "  inflating: A_39img.png             \n",
            "  inflating: A_40img.png             \n",
            "  inflating: A_41img.png             \n",
            "  inflating: A_42img.png             \n",
            "  inflating: A_43img.png             \n",
            "  inflating: A_44img.png             \n",
            "  inflating: A_45img.png             \n",
            "  inflating: A_46img.png             \n",
            "  inflating: A_47img.png             \n",
            "  inflating: A_48img.png             \n",
            "  inflating: A_49img.png             \n",
            "  inflating: A_50img.png             \n",
            "  inflating: A_51img.png             \n",
            "  inflating: A_52img.png             \n",
            "  inflating: A_53img.png             \n",
            "  inflating: A_54img.png             \n",
            "  inflating: A_55img.png             \n",
            "  inflating: A_56img.png             \n",
            "  inflating: A_57img.png             \n",
            "  inflating: A_58img.png             \n",
            "  inflating: A_59img.png             \n",
            "  inflating: A_60img.png             \n",
            "  inflating: A_61img.png             \n",
            "  inflating: A_62img.png             \n",
            "  inflating: A_63img.png             \n",
            "  inflating: A_64img.png             \n",
            "  inflating: A_65img.png             \n",
            "  inflating: A_66img.png             \n",
            "  inflating: A_67img.png             \n",
            "  inflating: A_68img.png             \n",
            "  inflating: A_69img.png             \n",
            "  inflating: A_70img.png             \n",
            "  inflating: A_71img.png             \n",
            "  inflating: A_72img.png             \n",
            "  inflating: A_73img.png             \n",
            "  inflating: A_74img.png             \n",
            "  inflating: A_75img.png             \n",
            "  inflating: A_76img.png             \n",
            "  inflating: A_77img.png             \n",
            "  inflating: A_78img.png             \n",
            "  inflating: A_79img.png             \n",
            "  inflating: A_80img.png             \n",
            "  inflating: A_81img.png             \n",
            "  inflating: A_82img.png             \n",
            "  inflating: A_83img.png             \n",
            "  inflating: A_84img.png             \n",
            "  inflating: A_85img.png             \n",
            "  inflating: A_86img.png             \n",
            "  inflating: A_87img.png             \n",
            "  inflating: A_88img.png             \n",
            "  inflating: A_89img.png             \n",
            "  inflating: A_90img.png             \n",
            "  inflating: A_91img.png             \n",
            "  inflating: A_92img.png             \n",
            "  inflating: A_93img.png             \n",
            "  inflating: A_94img.png             \n",
            "  inflating: A_95img.png             \n",
            "  inflating: A_96img.png             \n",
            "  inflating: A_97img.png             \n",
            "  inflating: A_98img.png             \n",
            "  inflating: A_99img.png             \n",
            "  inflating: A_100img.png            \n",
            "  inflating: A_101img.png            \n",
            "  inflating: A_102img.png            \n",
            "  inflating: A_103img.png            \n",
            "  inflating: A_104img.png            \n",
            "  inflating: A_105img.png            \n",
            "  inflating: A_106img.png            \n",
            "  inflating: A_107img.png            \n",
            "  inflating: A_108img.png            \n",
            "  inflating: A_109img.png            \n",
            "  inflating: A_110img.png            \n",
            "  inflating: A_111img.png            \n",
            "  inflating: A_112img.png            \n",
            "  inflating: A_113img.png            \n",
            "  inflating: A_114img.png            \n",
            "  inflating: A_115img.png            \n",
            "  inflating: A_116img.png            \n",
            "  inflating: A_117img.png            \n",
            "  inflating: A_118img.png            \n",
            "  inflating: A_119img.png            \n",
            "  inflating: A_120img.png            \n",
            "  inflating: A_121img.png            \n",
            "  inflating: A_122img.png            \n",
            "  inflating: A_123img.png            \n",
            "  inflating: A_124img.png            \n",
            "  inflating: A_125img.png            \n",
            "  inflating: A_126img.png            \n",
            "  inflating: A_127img.png            \n",
            "  inflating: A_128img.png            \n",
            "  inflating: A_129img.png            \n",
            "  inflating: A_130img.png            \n",
            "  inflating: A_131img.png            \n",
            "  inflating: A_132img.png            \n",
            "  inflating: A_133img.png            \n",
            "  inflating: A_134img.png            \n",
            "  inflating: A_135img.png            \n",
            "  inflating: A_136img.png            \n",
            "  inflating: A_137img.png            \n",
            "  inflating: A_138img.png            \n",
            "  inflating: A_139img.png            \n",
            "  inflating: A_140img.png            \n",
            "  inflating: A_141img.png            \n",
            "  inflating: A_142img.png            \n",
            "  inflating: A_143img.png            \n",
            "  inflating: A_144img.png            \n",
            "  inflating: A_145img.png            \n",
            "  inflating: A_146img.png            \n",
            "  inflating: A_147img.png            \n",
            "  inflating: A_148img.png            \n",
            "  inflating: A_149img.png            \n",
            "  inflating: A_150img.png            \n",
            "  inflating: A_151img.png            \n",
            "  inflating: A_152img.png            \n",
            "  inflating: A_153img.png            \n",
            "  inflating: A_154img.png            \n",
            "  inflating: A_155img.png            \n",
            "  inflating: A_156img.png            \n",
            "  inflating: A_157img.png            \n",
            "  inflating: A_158img.png            \n",
            "  inflating: A_159img.png            \n",
            "  inflating: A_160img.png            \n",
            "  inflating: A_161img.png            \n",
            "  inflating: A_162img.png            \n",
            "  inflating: A_163img.png            \n",
            "  inflating: A_164img.png            \n",
            "  inflating: A_165img.png            \n",
            "  inflating: A_166img.png            \n",
            "  inflating: A_167img.png            \n",
            "  inflating: A_168img.png            \n",
            "  inflating: A_169img.png            \n",
            "  inflating: A_170img.png            \n",
            "  inflating: A_171img.png            \n",
            "  inflating: A_172img.png            \n",
            "  inflating: A_173img.png            \n",
            "  inflating: A_174img.png            \n",
            "  inflating: A_175img.png            \n",
            "  inflating: A_176img.png            \n",
            "  inflating: A_177img.png            \n",
            "  inflating: A_178img.png            \n",
            "  inflating: A_179img.png            \n",
            "  inflating: A_180img.png            \n",
            "  inflating: A_181img.png            \n",
            "  inflating: A_182img.png            \n",
            "  inflating: A_183img.png            \n",
            "  inflating: A_184img.png            \n",
            "  inflating: A_185img.png            \n",
            "  inflating: A_186img.png            \n",
            "  inflating: A_187img.png            \n",
            "  inflating: A_188img.png            \n",
            "  inflating: A_189img.png            \n",
            "  inflating: A_190img.png            \n",
            "  inflating: A_191img.png            \n",
            "  inflating: A_192img.png            \n",
            "  inflating: A_193img.png            \n",
            "  inflating: A_194img.png            \n",
            "  inflating: A_195img.png            \n",
            "  inflating: A_196img.png            \n",
            "  inflating: A_197img.png            \n",
            "  inflating: A_198img.png            \n",
            "  inflating: A_199img.png            \n",
            "  inflating: A_200img.png            \n",
            "  inflating: A_201img.png            \n",
            "  inflating: A_202img.png            \n",
            "  inflating: A_203img.png            \n",
            "  inflating: A_204img.png            \n",
            "  inflating: A_205img.png            \n",
            "  inflating: A_206img.png            \n",
            "  inflating: A_207img.png            \n",
            "  inflating: A_208img.png            \n",
            "  inflating: A_209img.png            \n",
            "  inflating: A_210img.png            \n",
            "  inflating: A_211img.png            \n",
            "  inflating: A_212img.png            \n",
            "  inflating: A_213img.png            \n",
            "  inflating: A_214img.png            \n",
            "  inflating: A_215img.png            \n",
            "  inflating: A_216img.png            \n",
            "  inflating: A_217img.png            \n",
            "  inflating: A_218img.png            \n",
            "  inflating: A_219img.png            \n",
            "  inflating: A_220img.png            \n",
            "  inflating: A_221img.png            \n",
            "  inflating: A_222img.png            \n",
            "  inflating: A_223img.png            \n",
            "  inflating: A_224img.png            \n",
            "  inflating: B_1img.png              \n",
            "  inflating: B_2img.png              \n",
            "  inflating: B_3img.png              \n",
            "  inflating: B_4img.png              \n",
            "  inflating: B_5img.png              \n",
            "  inflating: B_6img.png              \n",
            "  inflating: B_7img.png              \n",
            "  inflating: B_8img.png              \n",
            "  inflating: B_9img.png              \n",
            "  inflating: B_10img.png             \n",
            "  inflating: B_11img.png             \n",
            "  inflating: B_12img.png             \n",
            "  inflating: B_13img.png             \n",
            "  inflating: B_14img.png             \n",
            "  inflating: B_15img.png             \n",
            "  inflating: B_16img.png             \n",
            "  inflating: B_17img.png             \n",
            "  inflating: B_18img.png             \n",
            "  inflating: B_19img.png             \n",
            "  inflating: B_20img.png             \n",
            "  inflating: B_21img.png             \n",
            "  inflating: B_22img.png             \n",
            "  inflating: B_23img.png             \n",
            "  inflating: B_24img.png             \n",
            "  inflating: B_25img.png             \n",
            "  inflating: B_26img.png             \n",
            "  inflating: B_27img.png             \n",
            "  inflating: B_28img.png             \n",
            "  inflating: B_29img.png             \n",
            "  inflating: B_30img.png             \n",
            "  inflating: B_31img.png             \n",
            "  inflating: B_32img.png             \n",
            "  inflating: B_33img.png             \n",
            "  inflating: B_34img.png             \n",
            "  inflating: B_35img.png             \n",
            "  inflating: B_36img.png             \n",
            "  inflating: B_37img.png             \n",
            "  inflating: B_38img.png             \n",
            "  inflating: B_39img.png             \n",
            "  inflating: B_40img.png             \n",
            "  inflating: B_41img.png             \n",
            "  inflating: B_42img.png             \n",
            "  inflating: B_43img.png             \n",
            "  inflating: B_44img.png             \n",
            "  inflating: B_45img.png             \n",
            "  inflating: B_46img.png             \n",
            "  inflating: B_47img.png             \n",
            "  inflating: B_48img.png             \n",
            "  inflating: B_49img.png             \n",
            "  inflating: B_50img.png             \n",
            "  inflating: B_51img.png             \n",
            "  inflating: B_52img.png             \n",
            "  inflating: B_53img.png             \n",
            "  inflating: B_54img.png             \n",
            "  inflating: B_55img.png             \n",
            "  inflating: B_56img.png             \n",
            "  inflating: B_57img.png             \n",
            "  inflating: B_58img.png             \n",
            "  inflating: B_59img.png             \n",
            "  inflating: B_60img.png             \n",
            "  inflating: B_61img.png             \n",
            "  inflating: B_62img.png             \n",
            "  inflating: B_63img.png             \n",
            "  inflating: B_64img.png             \n",
            "  inflating: B_65img.png             \n",
            "  inflating: B_66img.png             \n",
            "  inflating: B_67img.png             \n",
            "  inflating: B_68img.png             \n",
            "  inflating: B_69img.png             \n",
            "  inflating: B_70img.png             \n",
            "  inflating: B_71img.png             \n",
            "  inflating: B_72img.png             \n",
            "  inflating: B_73img.png             \n",
            "  inflating: B_74img.png             \n",
            "  inflating: B_75img.png             \n",
            "  inflating: B_76img.png             \n",
            "  inflating: B_77img.png             \n",
            "  inflating: B_78img.png             \n",
            "  inflating: B_79img.png             \n",
            "  inflating: B_80img.png             \n",
            "  inflating: B_81img.png             \n",
            "  inflating: B_82img.png             \n",
            "  inflating: B_83img.png             \n",
            "  inflating: B_84img.png             \n",
            "  inflating: B_85img.png             \n",
            "  inflating: B_86img.png             \n",
            "  inflating: B_87img.png             \n",
            "  inflating: B_88img.png             \n",
            "  inflating: B_89img.png             \n",
            "  inflating: C_1img.png              \n",
            "  inflating: C_2img.png              \n",
            "  inflating: C_3img.png              \n",
            "  inflating: C_4img.png              \n",
            "  inflating: C_5img.png              \n",
            "  inflating: C_6img.png              \n",
            "  inflating: C_7img.png              \n",
            "  inflating: C_8img.png              \n",
            "  inflating: C_9img.png              \n",
            "  inflating: C_10img.png             \n",
            "  inflating: C_11img.png             \n",
            "  inflating: C_12img.png             \n",
            "  inflating: C_13img.png             \n",
            "  inflating: C_14img.png             \n",
            "  inflating: C_15img.png             \n",
            "  inflating: C_16img.png             \n",
            "  inflating: C_17img.png             \n",
            "  inflating: C_18img.png             \n",
            "  inflating: C_19img.png             \n",
            "  inflating: C_20img.png             \n",
            "  inflating: C_21img.png             \n",
            "  inflating: C_22img.png             \n",
            "  inflating: C_23img.png             \n",
            "  inflating: C_24img.png             \n",
            "  inflating: C_25img.png             \n",
            "  inflating: C_26img.png             \n",
            "  inflating: C_27img.png             \n",
            "  inflating: C_28img.png             \n",
            "  inflating: C_29img.png             \n",
            "  inflating: C_30img.png             \n",
            "  inflating: C_31img.png             \n",
            "  inflating: C_32img.png             \n",
            "  inflating: C_33img.png             \n",
            "  inflating: C_34img.png             \n",
            "  inflating: C_35img.png             \n",
            "  inflating: C_36img.png             \n",
            "  inflating: C_37img.png             \n",
            "  inflating: C_38img.png             \n",
            "  inflating: C_39img.png             \n",
            "  inflating: C_40img.png             \n",
            "  inflating: C_41img.png             \n",
            "  inflating: C_42img.png             \n",
            "  inflating: C_43img.png             \n",
            "  inflating: C_44img.png             \n",
            "  inflating: C_45img.png             \n",
            "  inflating: C_46img.png             \n",
            "  inflating: C_47img.png             \n",
            "  inflating: C_48img.png             \n",
            "  inflating: C_49img.png             \n",
            "  inflating: C_50img.png             \n",
            "  inflating: C_51img.png             \n",
            "  inflating: C_52img.png             \n",
            "  inflating: C_53img.png             \n",
            "  inflating: C_54img.png             \n",
            "  inflating: C_55img.png             \n",
            "  inflating: C_56img.png             \n",
            "  inflating: C_57img.png             \n",
            "  inflating: C_58img.png             \n",
            "  inflating: C_59img.png             \n",
            "  inflating: C_60img.png             \n",
            "  inflating: C_61img.png             \n",
            "  inflating: C_62img.png             \n",
            "  inflating: C_63img.png             \n",
            "  inflating: C_64img.png             \n",
            "  inflating: C_65img.png             \n",
            "  inflating: C_66img.png             \n",
            "  inflating: C_67img.png             \n",
            "  inflating: C_68img.png             \n",
            "  inflating: C_69img.png             \n",
            "  inflating: C_70img.png             \n",
            "  inflating: C_71img.png             \n",
            "  inflating: C_72img.png             \n",
            "  inflating: C_73img.png             \n",
            "  inflating: C_74img.png             \n",
            "  inflating: C_75img.png             \n",
            "  inflating: C_76img.png             \n",
            "  inflating: C_77img.png             \n",
            "  inflating: C_78img.png             \n",
            "  inflating: C_79img.png             \n",
            "  inflating: C_80img.png             \n",
            "  inflating: C_81img.png             \n",
            "  inflating: C_82img.png             \n",
            "  inflating: C_83img.png             \n",
            "  inflating: C_84img.png             \n",
            "  inflating: C_85img.png             \n",
            "  inflating: C_86img.png             \n",
            "  inflating: C_87img.png             \n",
            "  inflating: C_88img.png             \n",
            "  inflating: C_89img.png             \n",
            "  inflating: C_90img.png             \n",
            "  inflating: C_91img.png             \n",
            "  inflating: C_92img.png             \n",
            "  inflating: C_93img.png             \n",
            "  inflating: C_94img.png             \n",
            "  inflating: C_95img.png             \n",
            "  inflating: C_96img.png             \n",
            "  inflating: C_97img.png             \n",
            "  inflating: C_98img.png             \n",
            "  inflating: C_99img.png             \n",
            "  inflating: C_100img.png            \n",
            "  inflating: C_101img.png            \n",
            "  inflating: C_102img.png            \n",
            "  inflating: C_103img.png            \n",
            "  inflating: C_104img.png            \n",
            "  inflating: C_105img.png            \n",
            "  inflating: C_106img.png            \n",
            "  inflating: C_107img.png            \n",
            "  inflating: C_108img.png            \n",
            "  inflating: C_109img.png            \n",
            "  inflating: C_110img.png            \n",
            "  inflating: C_111img.png            \n",
            "  inflating: C_112img.png            \n",
            "  inflating: C_113img.png            \n",
            "  inflating: C_114img.png            \n",
            "  inflating: C_115img.png            \n",
            "  inflating: C_116img.png            \n",
            "  inflating: C_117img.png            \n",
            "  inflating: C_118img.png            \n",
            "  inflating: C_119img.png            \n",
            "  inflating: C_120img.png            \n",
            "  inflating: C_121img.png            \n",
            "  inflating: C_122img.png            \n",
            "  inflating: C_123img.png            \n",
            "  inflating: C_124img.png            \n",
            "  inflating: C_125img.png            \n",
            "  inflating: C_126img.png            \n",
            "  inflating: C_127img.png            \n",
            "  inflating: C_128img.png            \n",
            "  inflating: C_129img.png            \n",
            "  inflating: C_130img.png            \n",
            "  inflating: C_131img.png            \n",
            "  inflating: C_132img.png            \n",
            "  inflating: C_133img.png            \n",
            "  inflating: C_134img.png            \n",
            "  inflating: C_135img.png            \n",
            "  inflating: C_136img.png            \n",
            "  inflating: C_137img.png            \n",
            "  inflating: C_138img.png            \n",
            "  inflating: C_139img.png            \n",
            "  inflating: C_140img.png            \n",
            "  inflating: C_141img.png            \n",
            "  inflating: C_142img.png            \n",
            "  inflating: C_143img.png            \n",
            "  inflating: C_144img.png            \n",
            "  inflating: C_145img.png            \n",
            "  inflating: C_146img.png            \n",
            "  inflating: C_147img.png            \n",
            "  inflating: C_148img.png            \n",
            "  inflating: C_149img.png            \n",
            "  inflating: C_150img.png            \n",
            "  inflating: C_151img.png            \n",
            "  inflating: C_152img.png            \n",
            "  inflating: C_153img.png            \n",
            "  inflating: C_154img.png            \n",
            "  inflating: C_155img.png            \n",
            "  inflating: C_156img.png            \n",
            "  inflating: C_157img.png            \n",
            "  inflating: C_158img.png            \n",
            "  inflating: C_159img.png            \n",
            "  inflating: C_160img.png            \n",
            "  inflating: C_161img.png            \n",
            "  inflating: C_162img.png            \n",
            "  inflating: C_163img.png            \n",
            "  inflating: C_164img.png            \n",
            "  inflating: C_165img.png            \n",
            "  inflating: C_166img.png            \n",
            "  inflating: C_167img.png            \n",
            "  inflating: C_168img.png            \n",
            "  inflating: C_169img.png            \n",
            "  inflating: C_170img.png            \n",
            "  inflating: C_171img.png            \n",
            "  inflating: C_172img.png            \n",
            "  inflating: C_173img.png            \n",
            "  inflating: C_174img.png            \n",
            "  inflating: C_175img.png            \n",
            "  inflating: C_176img.png            \n",
            "  inflating: C_177img.png            \n",
            "  inflating: C_178img.png            \n",
            "  inflating: C_179img.png            \n",
            "  inflating: C_180img.png            \n",
            "  inflating: C_181img.png            \n",
            "  inflating: C_182img.png            \n",
            "  inflating: C_183img.png            \n",
            "  inflating: C_184img.png            \n",
            "  inflating: C_185img.png            \n",
            "  inflating: C_186img.png            \n",
            "  inflating: C_187img.png            \n",
            "  inflating: C_188img.png            \n",
            "  inflating: C_189img.png            \n",
            "  inflating: C_190img.png            \n",
            "  inflating: C_191img.png            \n",
            "  inflating: C_192img.png            \n",
            "  inflating: C_193img.png            \n",
            "  inflating: C_194img.png            \n",
            "  inflating: C_195img.png            \n",
            "  inflating: C_196img.png            \n",
            "  inflating: C_197img.png            \n",
            "  inflating: C_198img.png            \n",
            "  inflating: C_199img.png            \n",
            "  inflating: C_200img.png            \n",
            "  inflating: C_201img.png            \n",
            "  inflating: C_202img.png            \n",
            "  inflating: C_203img.png            \n",
            "  inflating: C_204img.png            \n",
            "  inflating: C_205img.png            \n",
            "  inflating: C_206img.png            \n",
            "  inflating: C_207img.png            \n",
            "  inflating: C_208img.png            \n",
            "  inflating: C_209img.png            \n",
            "  inflating: C_210img.png            \n",
            "  inflating: C_211img.png            \n",
            "  inflating: C_212img.png            \n",
            "  inflating: C_213img.png            \n",
            "  inflating: C_214img.png            \n",
            "  inflating: C_215img.png            \n",
            "  inflating: C_216img.png            \n",
            "  inflating: C_217img.png            \n",
            "  inflating: C_218img.png            \n",
            "  inflating: C_219img.png            \n",
            "  inflating: C_220img.png            \n",
            "  inflating: C_221img.png            \n",
            "  inflating: C_222img.png            \n",
            "  inflating: C_223img.png            \n",
            "  inflating: C_224img.png            \n",
            "  inflating: C_225img.png            \n",
            "  inflating: C_226img.png            \n",
            "  inflating: C_227img.png            \n",
            "  inflating: C_228img.png            \n",
            "  inflating: C_229img.png            \n",
            "  inflating: C_230img.png            \n",
            "  inflating: C_231img.png            \n",
            "  inflating: C_232img.png            \n",
            "  inflating: C_233img.png            \n",
            "  inflating: C_234img.png            \n",
            "  inflating: C_235img.png            \n",
            "  inflating: C_236img.png            \n",
            "  inflating: C_237img.png            \n",
            "  inflating: C_238img.png            \n",
            "  inflating: C_239img.png            \n",
            "  inflating: C_240img.png            \n",
            "  inflating: C_241img.png            \n",
            "  inflating: C_242img.png            \n",
            "  inflating: C_243img.png            \n",
            "  inflating: C_244img.png            \n",
            "  inflating: C_245img.png            \n",
            "  inflating: C_246img.png            \n",
            "  inflating: C_247img.png            \n",
            "  inflating: C_248img.png            \n",
            "  inflating: C_249img.png            \n",
            "  inflating: C_250img.png            \n",
            "  inflating: C_251img.png            \n",
            "  inflating: D_1img.png              \n",
            "  inflating: D_2img.png              \n",
            "  inflating: D_3img.png              \n",
            "  inflating: D_4img.png              \n",
            "  inflating: D_5img.png              \n",
            "  inflating: D_6img.png              \n",
            "  inflating: D_7img.png              \n",
            "  inflating: D_8img.png              \n",
            "  inflating: D_9img.png              \n",
            "  inflating: D_10img.png             \n",
            "  inflating: D_11img.png             \n",
            "  inflating: D_12img.png             \n",
            "  inflating: D_13img.png             \n",
            "  inflating: D_14img.png             \n",
            "  inflating: D_15img.png             \n",
            "  inflating: D_16img.png             \n",
            "  inflating: D_17img.png             \n",
            "  inflating: D_18img.png             \n",
            "  inflating: D_19img.png             \n",
            "  inflating: D_20img.png             \n",
            "  inflating: D_21img.png             \n",
            "  inflating: D_22img.png             \n",
            "  inflating: D_23img.png             \n",
            "  inflating: D_24img.png             \n",
            "  inflating: D_25img.png             \n",
            "  inflating: D_26img.png             \n",
            "  inflating: D_27img.png             \n",
            "  inflating: D_28img.png             \n",
            "  inflating: D_29img.png             \n",
            "  inflating: D_30img.png             \n",
            "  inflating: D_31img.png             \n",
            "  inflating: D_32img.png             \n",
            "  inflating: D_33img.png             \n",
            "  inflating: D_34img.png             \n",
            "  inflating: D_35img.png             \n",
            "  inflating: D_36img.png             \n",
            "  inflating: D_37img.png             \n",
            "  inflating: D_38img.png             \n",
            "  inflating: D_39img.png             \n",
            "  inflating: D_40img.png             \n",
            "  inflating: D_41img.png             \n",
            "  inflating: D_42img.png             \n",
            "  inflating: D_43img.png             \n",
            "  inflating: D_44img.png             \n",
            "  inflating: D_45img.png             \n",
            "  inflating: D_46img.png             \n",
            "  inflating: D_47img.png             \n",
            "  inflating: D_48img.png             \n",
            "  inflating: D_49img.png             \n",
            "  inflating: D_50img.png             \n",
            "  inflating: D_51img.png             \n",
            "  inflating: D_52img.png             \n",
            "  inflating: D_53img.png             \n",
            "  inflating: D_54img.png             \n",
            "  inflating: D_55img.png             \n",
            "  inflating: D_56img.png             \n",
            "  inflating: D_57img.png             \n",
            "  inflating: D_58img.png             \n",
            "  inflating: D_59img.png             \n",
            "  inflating: D_60img.png             \n",
            "  inflating: D_61img.png             \n",
            "  inflating: D_62img.png             \n",
            "  inflating: D_63img.png             \n",
            "  inflating: D_64img.png             \n",
            "  inflating: D_65img.png             \n",
            "  inflating: D_66img.png             \n",
            "  inflating: D_67img.png             \n",
            "  inflating: D_68img.png             \n",
            "  inflating: D_69img.png             \n",
            "  inflating: D_70img.png             \n",
            "  inflating: D_71img.png             \n",
            "  inflating: D_72img.png             \n",
            "  inflating: D_73img.png             \n",
            "  inflating: D_74img.png             \n",
            "  inflating: D_75img.png             \n",
            "  inflating: D_76img.png             \n",
            "  inflating: D_77img.png             \n",
            "  inflating: D_78img.png             \n",
            "  inflating: D_79img.png             \n",
            "  inflating: D_80img.png             \n",
            "  inflating: D_81img.png             \n",
            "  inflating: D_82img.png             \n",
            "  inflating: D_83img.png             \n",
            "  inflating: D_84img.png             \n",
            "  inflating: D_85img.png             \n",
            "  inflating: D_86img.png             \n",
            "  inflating: D_87img.png             \n",
            "  inflating: D_88img.png             \n",
            "  inflating: D_89img.png             \n",
            "  inflating: D_90img.png             \n",
            "  inflating: D_91img.png             \n",
            "  inflating: D_92img.png             \n",
            "  inflating: D_93img.png             \n",
            "  inflating: D_94img.png             \n",
            "  inflating: D_95img.png             \n",
            "  inflating: D_96img.png             \n",
            "  inflating: D_97img.png             \n",
            "  inflating: D_98img.png             \n",
            "  inflating: D_99img.png             \n",
            "  inflating: D_100img.png            \n",
            "  inflating: D_101img.png            \n",
            "  inflating: D_102img.png            \n",
            "  inflating: D_103img.png            \n",
            "  inflating: D_104img.png            \n",
            "  inflating: D_105img.png            \n",
            "  inflating: D_106img.png            \n",
            "  inflating: D_107img.png            \n",
            "  inflating: D_108img.png            \n",
            "  inflating: D_109img.png            \n",
            "  inflating: D_110img.png            \n",
            "  inflating: D_111img.png            \n",
            "  inflating: D_112img.png            \n",
            "  inflating: D_113img.png            \n",
            "  inflating: D_114img.png            \n",
            "  inflating: D_115img.png            \n",
            "  inflating: D_116img.png            \n",
            "  inflating: D_117img.png            \n",
            "  inflating: D_118img.png            \n",
            "  inflating: D_119img.png            \n",
            "  inflating: D_120img.png            \n",
            "  inflating: D_121img.png            \n",
            "  inflating: D_122img.png            \n",
            "  inflating: D_123img.png            \n",
            "  inflating: D_124img.png            \n",
            "  inflating: D_125img.png            \n",
            "  inflating: D_126img.png            \n",
            "  inflating: D_127img.png            \n",
            "  inflating: D_128img.png            \n",
            "  inflating: D_129img.png            \n",
            "  inflating: D_130img.png            \n",
            "  inflating: D_131img.png            \n",
            "  inflating: D_132img.png            \n",
            "  inflating: D_133img.png            \n",
            "  inflating: D_134img.png            \n",
            "  inflating: D_135img.png            \n",
            "  inflating: E_1img.png              \n",
            "  inflating: E_2img.png              \n",
            "  inflating: E_3img.png              \n",
            "  inflating: E_4img.png              \n",
            "  inflating: E_5img.png              \n",
            "  inflating: E_6img.png              \n",
            "  inflating: E_7img.png              \n",
            "  inflating: E_8img.png              \n",
            "  inflating: E_9img.png              \n",
            "  inflating: E_10img.png             \n",
            "  inflating: E_11img.png             \n",
            "  inflating: E_12img.png             \n",
            "  inflating: E_13img.png             \n",
            "  inflating: E_14img.png             \n",
            "  inflating: E_15img.png             \n",
            "  inflating: E_16img.png             \n",
            "  inflating: E_17img.png             \n",
            "  inflating: E_18img.png             \n",
            "  inflating: E_19img.png             \n",
            "  inflating: E_20img.png             \n",
            "  inflating: E_21img.png             \n",
            "  inflating: E_22img.png             \n",
            "  inflating: E_23img.png             \n",
            "  inflating: E_24img.png             \n",
            "  inflating: E_25img.png             \n",
            "  inflating: E_26img.png             \n",
            "  inflating: E_27img.png             \n",
            "  inflating: E_28img.png             \n",
            "  inflating: E_29img.png             \n",
            "  inflating: E_30img.png             \n",
            "  inflating: E_31img.png             \n",
            "  inflating: E_32img.png             \n",
            "  inflating: E_33img.png             \n",
            "  inflating: E_34img.png             \n",
            "  inflating: E_35img.png             \n",
            "  inflating: E_36img.png             \n",
            "  inflating: E_37img.png             \n",
            "  inflating: E_38img.png             \n",
            "  inflating: E_39img.png             \n",
            "  inflating: E_40img.png             \n",
            "  inflating: E_41img.png             \n",
            "  inflating: E_42img.png             \n",
            "  inflating: E_43img.png             \n",
            "  inflating: E_44img.png             \n",
            "  inflating: E_45img.png             \n",
            "  inflating: E_46img.png             \n",
            "  inflating: E_47img.png             \n",
            "  inflating: E_48img.png             \n",
            "  inflating: E_49img.png             \n",
            "  inflating: E_50img.png             \n",
            "  inflating: E_51img.png             \n",
            "  inflating: E_52img.png             \n",
            "  inflating: E_53img.png             \n",
            "  inflating: E_54img.png             \n",
            "  inflating: E_55img.png             \n",
            "  inflating: E_56img.png             \n",
            "  inflating: E_57img.png             \n",
            "  inflating: E_58img.png             \n",
            "  inflating: E_59img.png             \n",
            "  inflating: E_60img.png             \n",
            "  inflating: E_61img.png             \n",
            "  inflating: E_62img.png             \n",
            "  inflating: E_63img.png             \n",
            "  inflating: E_64img.png             \n",
            "  inflating: E_65img.png             \n",
            "  inflating: E_66img.png             \n",
            "  inflating: E_67img.png             \n",
            "  inflating: E_68img.png             \n",
            "  inflating: E_69img.png             \n",
            "  inflating: E_70img.png             \n",
            "  inflating: E_71img.png             \n",
            "  inflating: E_72img.png             \n",
            "  inflating: E_73img.png             \n",
            "  inflating: E_74img.png             \n",
            "  inflating: E_75img.png             \n",
            "  inflating: E_76img.png             \n",
            "  inflating: E_77img.png             \n",
            "  inflating: E_78img.png             \n",
            "  inflating: E_79img.png             \n",
            "  inflating: E_80img.png             \n",
            "  inflating: E_81img.png             \n",
            "  inflating: E_82img.png             \n",
            "  inflating: E_83img.png             \n",
            "  inflating: E_84img.png             \n",
            "  inflating: E_85img.png             \n"
          ],
          "name": "stdout"
        }
      ]
    },
    {
      "cell_type": "code",
      "metadata": {
        "colab": {
          "base_uri": "https://localhost:8080/"
        },
        "id": "jjEa_6IbCYX-",
        "outputId": "4ab86f65-40a8-439d-86ac-29fdc706bfd6"
      },
      "source": [
        "%ls\r\n"
      ],
      "execution_count": null,
      "outputs": [
        {
          "output_type": "stream",
          "text": [
            "\u001b[0m\u001b[01;34msample_data\u001b[0m/  \u001b[01;34msmall_clouds\u001b[0m/\n"
          ],
          "name": "stdout"
        }
      ]
    },
    {
      "cell_type": "code",
      "metadata": {
        "id": "t2UMLHOVC2I4"
      },
      "source": [
        "import os\r\n",
        "import numpy as np\r\n",
        "import shutil\r\n",
        "import random\r\n",
        "root_dir = \"/content/small_clouds\""
      ],
      "execution_count": null,
      "outputs": []
    },
    {
      "cell_type": "code",
      "metadata": {
        "id": "K5dln-aKDOiV"
      },
      "source": [
        "classes_dir = ['clearA', 'patternB','thickdarkC','thickwhiteD','veilE']\r\n",
        "for cls in classes_dir:\r\n",
        "    os.makedirs(root_dir +'train/' + cls)\r\n",
        "    os.makedirs(root_dir +'val/' + cls)\r\n",
        "    os.makedirs(root_dir +'test/' + cls)\r\n"
      ],
      "execution_count": null,
      "outputs": []
    },
    {
      "cell_type": "code",
      "metadata": {
        "id": "lbxEM4U-DaMt"
      },
      "source": [
        "src = root_dir"
      ],
      "execution_count": null,
      "outputs": []
    },
    {
      "cell_type": "code",
      "metadata": {
        "id": "fu9CuBkjDlXB"
      },
      "source": [
        "val_ratio = 0.20\r\n",
        "test_ratio = 0.20"
      ],
      "execution_count": null,
      "outputs": []
    },
    {
      "cell_type": "code",
      "metadata": {
        "id": "qrVap80UDpwN"
      },
      "source": [
        "allFileNames = os.listdir(src)"
      ],
      "execution_count": null,
      "outputs": []
    },
    {
      "cell_type": "code",
      "metadata": {
        "id": "Z13b4cxNDuFg"
      },
      "source": [
        "np.random.shuffle(allFileNames)\r\n",
        "train_FileNames, val_FileNames, test_FileNames = np.split(np.array(allFileNames),\r\n",
        "                                                          [int(len(allFileNames)* (1 - (val_ratio + test_ratio))), \r\n",
        "                                                           int(len(allFileNames)* (1 - test_ratio))])"
      ],
      "execution_count": null,
      "outputs": []
    },
    {
      "cell_type": "code",
      "metadata": {
        "id": "QN1dkb3jEGbR"
      },
      "source": [
        "train_FileNames = [src+'/'+ name for name in train_FileNames.tolist()]\r\n",
        "val_FileNames = [src+'/' + name for name in val_FileNames.tolist()]\r\n",
        "test_FileNames = [src+'/' + name for name in test_FileNames.tolist()]\r\n"
      ],
      "execution_count": null,
      "outputs": []
    },
    {
      "cell_type": "code",
      "metadata": {
        "colab": {
          "base_uri": "https://localhost:8080/"
        },
        "id": "6vo_Zl3yEKKK",
        "outputId": "cc798b30-975b-49ef-d078-b4d5f9083ab4"
      },
      "source": [
        "print('Total images: ', len(allFileNames))\r\n"
      ],
      "execution_count": null,
      "outputs": [
        {
          "output_type": "stream",
          "text": [
            "Total images:  784\n"
          ],
          "name": "stdout"
        }
      ]
    },
    {
      "cell_type": "code",
      "metadata": {
        "colab": {
          "base_uri": "https://localhost:8080/"
        },
        "id": "K9y-DIs_EROb",
        "outputId": "f0013d49-1a6e-4a4f-cc83-e448b12a3d1f"
      },
      "source": [
        "print('Training: ', len(train_FileNames))\r\n",
        "print('Validation: ', len(val_FileNames))\r\n",
        "print('Testing: ', len(test_FileNames))"
      ],
      "execution_count": null,
      "outputs": [
        {
          "output_type": "stream",
          "text": [
            "Training:  470\n",
            "Validation:  157\n",
            "Testing:  157\n"
          ],
          "name": "stdout"
        }
      ]
    },
    {
      "cell_type": "code",
      "metadata": {
        "id": "ZzKFUBRvEVWc"
      },
      "source": [
        "for name in train_FileNames:\r\n",
        "    shutil.copy(name, root_dir +'train/' + cls)\r\n",
        "\r\n",
        "for name in val_FileNames:\r\n",
        "    shutil.copy(name, root_dir +'val/' + cls)\r\n",
        "\r\n",
        "for name in test_FileNames:\r\n",
        "    shutil.copy(name, root_dir +'test/' + cls)"
      ],
      "execution_count": null,
      "outputs": []
    },
    {
      "cell_type": "code",
      "metadata": {
        "id": "b7kVP0VQEXjH"
      },
      "source": [
        "from keras import layers\r\n",
        "from keras import models"
      ],
      "execution_count": null,
      "outputs": []
    },
    {
      "cell_type": "code",
      "metadata": {
        "id": "afWMOOILGFsh"
      },
      "source": [
        "model=models.Sequential()\r\n",
        "model.add(layers.Conv2D(32,(3,3),activation='relu',input_shape=(150,150,3)))\r\n",
        "model.add(layers.MaxPooling2D((2, 2)))\r\n",
        "model.add(layers.Conv2D(64, (3, 3), activation='relu'))\r\n",
        "model.add(layers.MaxPooling2D((2, 2)))\r\n",
        "model.add(layers.Conv2D(128, (3, 3), activation='relu'))\r\n",
        "model.add(layers.MaxPooling2D((2, 2)))\r\n",
        "model.add(layers.Conv2D(128, (3, 3), activation='relu'))\r\n",
        "model.add(layers.MaxPooling2D((2, 2)))\r\n",
        "model.add(layers.Conv2D(128, (3, 3), activation='relu'))\r\n",
        "model.add(layers.MaxPooling2D((2, 2)))\r\n",
        "model.add(layers.Flatten())\r\n",
        "model.add(layers.Dropout(0.5))\r\n",
        "model.add(layers.Dense(512, activation='relu'))\r\n",
        "model.add(layers.Dense(1, activation='sigmoid'))"
      ],
      "execution_count": 85,
      "outputs": []
    },
    {
      "cell_type": "code",
      "metadata": {
        "id": "MurTN_LPHc1e"
      },
      "source": [
        "from keras import optimizers"
      ],
      "execution_count": null,
      "outputs": []
    },
    {
      "cell_type": "code",
      "metadata": {
        "id": "ZVowDrHsH6Ag"
      },
      "source": [
        "model.compile(loss='binary_crossentropy',\r\n",
        "              optimizer=optimizers.RMSprop(lr=1e-4),\r\n",
        "              metrics=['acc'])"
      ],
      "execution_count": 87,
      "outputs": []
    },
    {
      "cell_type": "code",
      "metadata": {
        "id": "91GNv7KqH-32"
      },
      "source": [
        "from keras.preprocessing.image import ImageDataGenerator\r\n",
        "from keras.preprocessing import image"
      ],
      "execution_count": 34,
      "outputs": []
    },
    {
      "cell_type": "code",
      "metadata": {
        "id": "FRi3gZnWLyvY"
      },
      "source": [
        "train_datagen = ImageDataGenerator(rescale=1./225,rotation_range=40,width_shift_range=0.2,height_shift_range=0.2,shear_range=0.2,zoom_range=0.2,horizontal_flip=True)"
      ],
      "execution_count": 88,
      "outputs": []
    },
    {
      "cell_type": "code",
      "metadata": {
        "id": "qIWhTfW4OtMF"
      },
      "source": [
        "test_datagen= ImageDataGenerator(rescale=1./225)"
      ],
      "execution_count": 89,
      "outputs": []
    },
    {
      "cell_type": "code",
      "metadata": {
        "colab": {
          "base_uri": "https://localhost:8080/"
        },
        "id": "wElcu0vNQFif",
        "outputId": "0d8a0211-89fd-4478-994f-e233ac2e50ba"
      },
      "source": [
        "train_generator = train_datagen.flow_from_directory(\"small_cloudstrain/\",target_size=(150,150),batch_size=64,class_mode='binary')"
      ],
      "execution_count": 90,
      "outputs": [
        {
          "output_type": "stream",
          "text": [
            "Found 470 images belonging to 10 classes.\n"
          ],
          "name": "stdout"
        }
      ]
    },
    {
      "cell_type": "code",
      "metadata": {
        "colab": {
          "base_uri": "https://localhost:8080/"
        },
        "id": "1pzDk8Z6Ys5e",
        "outputId": "f3b3c8c1-6090-4dea-f4b7-ee970d094788"
      },
      "source": [
        "validation_generator = test_datagen.flow_from_directory(\r\n",
        "        \"small_cloudsval/\",\r\n",
        "        target_size=(150, 150),\r\n",
        "        batch_size=64,\r\n",
        "        class_mode='binary')"
      ],
      "execution_count": 91,
      "outputs": [
        {
          "output_type": "stream",
          "text": [
            "Found 157 images belonging to 10 classes.\n"
          ],
          "name": "stdout"
        }
      ]
    },
    {
      "cell_type": "code",
      "metadata": {
        "colab": {
          "base_uri": "https://localhost:8080/",
          "height": 376
        },
        "id": "nfoVsHwGY7i4",
        "outputId": "87e6d41f-9590-410e-eeed-41602e4fd929"
      },
      "source": [
        "history = model.fit_generator(\r\n",
        "      train_generator,\r\n",
        "      steps_per_epoch=15,\r\n",
        "      epochs=10,\r\n",
        "      validation_data=validation_generator,\r\n",
        "      validation_steps=10)"
      ],
      "execution_count": 93,
      "outputs": [
        {
          "output_type": "stream",
          "text": [
            "Epoch 1/10\n"
          ],
          "name": "stdout"
        },
        {
          "output_type": "error",
          "ename": "KeyboardInterrupt",
          "evalue": "ignored",
          "traceback": [
            "\u001b[0;31m---------------------------------------------------------------------------\u001b[0m",
            "\u001b[0;31mKeyboardInterrupt\u001b[0m                         Traceback (most recent call last)",
            "\u001b[0;32m<ipython-input-93-85da83733331>\u001b[0m in \u001b[0;36m<module>\u001b[0;34m()\u001b[0m\n\u001b[1;32m      4\u001b[0m       \u001b[0mepochs\u001b[0m\u001b[0;34m=\u001b[0m\u001b[0;36m10\u001b[0m\u001b[0;34m,\u001b[0m\u001b[0;34m\u001b[0m\u001b[0;34m\u001b[0m\u001b[0m\n\u001b[1;32m      5\u001b[0m       \u001b[0mvalidation_data\u001b[0m\u001b[0;34m=\u001b[0m\u001b[0mvalidation_generator\u001b[0m\u001b[0;34m,\u001b[0m\u001b[0;34m\u001b[0m\u001b[0;34m\u001b[0m\u001b[0m\n\u001b[0;32m----> 6\u001b[0;31m       validation_steps=10)\n\u001b[0m",
            "\u001b[0;32m/usr/local/lib/python3.6/dist-packages/tensorflow/python/util/deprecation.py\u001b[0m in \u001b[0;36mnew_func\u001b[0;34m(*args, **kwargs)\u001b[0m\n\u001b[1;32m    322\u001b[0m               \u001b[0;34m'in a future version'\u001b[0m \u001b[0;32mif\u001b[0m \u001b[0mdate\u001b[0m \u001b[0;32mis\u001b[0m \u001b[0;32mNone\u001b[0m \u001b[0;32melse\u001b[0m \u001b[0;34m(\u001b[0m\u001b[0;34m'after %s'\u001b[0m \u001b[0;34m%\u001b[0m \u001b[0mdate\u001b[0m\u001b[0;34m)\u001b[0m\u001b[0;34m,\u001b[0m\u001b[0;34m\u001b[0m\u001b[0;34m\u001b[0m\u001b[0m\n\u001b[1;32m    323\u001b[0m               instructions)\n\u001b[0;32m--> 324\u001b[0;31m       \u001b[0;32mreturn\u001b[0m \u001b[0mfunc\u001b[0m\u001b[0;34m(\u001b[0m\u001b[0;34m*\u001b[0m\u001b[0margs\u001b[0m\u001b[0;34m,\u001b[0m \u001b[0;34m**\u001b[0m\u001b[0mkwargs\u001b[0m\u001b[0;34m)\u001b[0m\u001b[0;34m\u001b[0m\u001b[0;34m\u001b[0m\u001b[0m\n\u001b[0m\u001b[1;32m    325\u001b[0m     return tf_decorator.make_decorator(\n\u001b[1;32m    326\u001b[0m         \u001b[0mfunc\u001b[0m\u001b[0;34m,\u001b[0m \u001b[0mnew_func\u001b[0m\u001b[0;34m,\u001b[0m \u001b[0;34m'deprecated'\u001b[0m\u001b[0;34m,\u001b[0m\u001b[0;34m\u001b[0m\u001b[0;34m\u001b[0m\u001b[0m\n",
            "\u001b[0;32m/usr/local/lib/python3.6/dist-packages/tensorflow/python/keras/engine/training.py\u001b[0m in \u001b[0;36mfit_generator\u001b[0;34m(self, generator, steps_per_epoch, epochs, verbose, callbacks, validation_data, validation_steps, validation_freq, class_weight, max_queue_size, workers, use_multiprocessing, shuffle, initial_epoch)\u001b[0m\n\u001b[1;32m   1827\u001b[0m         \u001b[0muse_multiprocessing\u001b[0m\u001b[0;34m=\u001b[0m\u001b[0muse_multiprocessing\u001b[0m\u001b[0;34m,\u001b[0m\u001b[0;34m\u001b[0m\u001b[0;34m\u001b[0m\u001b[0m\n\u001b[1;32m   1828\u001b[0m         \u001b[0mshuffle\u001b[0m\u001b[0;34m=\u001b[0m\u001b[0mshuffle\u001b[0m\u001b[0;34m,\u001b[0m\u001b[0;34m\u001b[0m\u001b[0;34m\u001b[0m\u001b[0m\n\u001b[0;32m-> 1829\u001b[0;31m         initial_epoch=initial_epoch)\n\u001b[0m\u001b[1;32m   1830\u001b[0m \u001b[0;34m\u001b[0m\u001b[0m\n\u001b[1;32m   1831\u001b[0m   @deprecation.deprecated(\n",
            "\u001b[0;32m/usr/local/lib/python3.6/dist-packages/tensorflow/python/keras/engine/training.py\u001b[0m in \u001b[0;36m_method_wrapper\u001b[0;34m(self, *args, **kwargs)\u001b[0m\n\u001b[1;32m    106\u001b[0m   \u001b[0;32mdef\u001b[0m \u001b[0m_method_wrapper\u001b[0m\u001b[0;34m(\u001b[0m\u001b[0mself\u001b[0m\u001b[0;34m,\u001b[0m \u001b[0;34m*\u001b[0m\u001b[0margs\u001b[0m\u001b[0;34m,\u001b[0m \u001b[0;34m**\u001b[0m\u001b[0mkwargs\u001b[0m\u001b[0;34m)\u001b[0m\u001b[0;34m:\u001b[0m\u001b[0;34m\u001b[0m\u001b[0;34m\u001b[0m\u001b[0m\n\u001b[1;32m    107\u001b[0m     \u001b[0;32mif\u001b[0m \u001b[0;32mnot\u001b[0m \u001b[0mself\u001b[0m\u001b[0;34m.\u001b[0m\u001b[0m_in_multi_worker_mode\u001b[0m\u001b[0;34m(\u001b[0m\u001b[0;34m)\u001b[0m\u001b[0;34m:\u001b[0m  \u001b[0;31m# pylint: disable=protected-access\u001b[0m\u001b[0;34m\u001b[0m\u001b[0;34m\u001b[0m\u001b[0m\n\u001b[0;32m--> 108\u001b[0;31m       \u001b[0;32mreturn\u001b[0m \u001b[0mmethod\u001b[0m\u001b[0;34m(\u001b[0m\u001b[0mself\u001b[0m\u001b[0;34m,\u001b[0m \u001b[0;34m*\u001b[0m\u001b[0margs\u001b[0m\u001b[0;34m,\u001b[0m \u001b[0;34m**\u001b[0m\u001b[0mkwargs\u001b[0m\u001b[0;34m)\u001b[0m\u001b[0;34m\u001b[0m\u001b[0;34m\u001b[0m\u001b[0m\n\u001b[0m\u001b[1;32m    109\u001b[0m \u001b[0;34m\u001b[0m\u001b[0m\n\u001b[1;32m    110\u001b[0m     \u001b[0;31m# Running inside `run_distribute_coordinator` already.\u001b[0m\u001b[0;34m\u001b[0m\u001b[0;34m\u001b[0m\u001b[0;34m\u001b[0m\u001b[0m\n",
            "\u001b[0;32m/usr/local/lib/python3.6/dist-packages/tensorflow/python/keras/engine/training.py\u001b[0m in \u001b[0;36mfit\u001b[0;34m(self, x, y, batch_size, epochs, verbose, callbacks, validation_split, validation_data, shuffle, class_weight, sample_weight, initial_epoch, steps_per_epoch, validation_steps, validation_batch_size, validation_freq, max_queue_size, workers, use_multiprocessing)\u001b[0m\n\u001b[1;32m   1096\u001b[0m                 batch_size=batch_size):\n\u001b[1;32m   1097\u001b[0m               \u001b[0mcallbacks\u001b[0m\u001b[0;34m.\u001b[0m\u001b[0mon_train_batch_begin\u001b[0m\u001b[0;34m(\u001b[0m\u001b[0mstep\u001b[0m\u001b[0;34m)\u001b[0m\u001b[0;34m\u001b[0m\u001b[0;34m\u001b[0m\u001b[0m\n\u001b[0;32m-> 1098\u001b[0;31m               \u001b[0mtmp_logs\u001b[0m \u001b[0;34m=\u001b[0m \u001b[0mtrain_function\u001b[0m\u001b[0;34m(\u001b[0m\u001b[0miterator\u001b[0m\u001b[0;34m)\u001b[0m\u001b[0;34m\u001b[0m\u001b[0;34m\u001b[0m\u001b[0m\n\u001b[0m\u001b[1;32m   1099\u001b[0m               \u001b[0;32mif\u001b[0m \u001b[0mdata_handler\u001b[0m\u001b[0;34m.\u001b[0m\u001b[0mshould_sync\u001b[0m\u001b[0;34m:\u001b[0m\u001b[0;34m\u001b[0m\u001b[0;34m\u001b[0m\u001b[0m\n\u001b[1;32m   1100\u001b[0m                 \u001b[0mcontext\u001b[0m\u001b[0;34m.\u001b[0m\u001b[0masync_wait\u001b[0m\u001b[0;34m(\u001b[0m\u001b[0;34m)\u001b[0m\u001b[0;34m\u001b[0m\u001b[0;34m\u001b[0m\u001b[0m\n",
            "\u001b[0;32m/usr/local/lib/python3.6/dist-packages/tensorflow/python/eager/def_function.py\u001b[0m in \u001b[0;36m__call__\u001b[0;34m(self, *args, **kwds)\u001b[0m\n\u001b[1;32m    778\u001b[0m       \u001b[0;32melse\u001b[0m\u001b[0;34m:\u001b[0m\u001b[0;34m\u001b[0m\u001b[0;34m\u001b[0m\u001b[0m\n\u001b[1;32m    779\u001b[0m         \u001b[0mcompiler\u001b[0m \u001b[0;34m=\u001b[0m \u001b[0;34m\"nonXla\"\u001b[0m\u001b[0;34m\u001b[0m\u001b[0;34m\u001b[0m\u001b[0m\n\u001b[0;32m--> 780\u001b[0;31m         \u001b[0mresult\u001b[0m \u001b[0;34m=\u001b[0m \u001b[0mself\u001b[0m\u001b[0;34m.\u001b[0m\u001b[0m_call\u001b[0m\u001b[0;34m(\u001b[0m\u001b[0;34m*\u001b[0m\u001b[0margs\u001b[0m\u001b[0;34m,\u001b[0m \u001b[0;34m**\u001b[0m\u001b[0mkwds\u001b[0m\u001b[0;34m)\u001b[0m\u001b[0;34m\u001b[0m\u001b[0;34m\u001b[0m\u001b[0m\n\u001b[0m\u001b[1;32m    781\u001b[0m \u001b[0;34m\u001b[0m\u001b[0m\n\u001b[1;32m    782\u001b[0m       \u001b[0mnew_tracing_count\u001b[0m \u001b[0;34m=\u001b[0m \u001b[0mself\u001b[0m\u001b[0;34m.\u001b[0m\u001b[0m_get_tracing_count\u001b[0m\u001b[0;34m(\u001b[0m\u001b[0;34m)\u001b[0m\u001b[0;34m\u001b[0m\u001b[0;34m\u001b[0m\u001b[0m\n",
            "\u001b[0;32m/usr/local/lib/python3.6/dist-packages/tensorflow/python/eager/def_function.py\u001b[0m in \u001b[0;36m_call\u001b[0;34m(self, *args, **kwds)\u001b[0m\n\u001b[1;32m    805\u001b[0m       \u001b[0;31m# In this case we have created variables on the first call, so we run the\u001b[0m\u001b[0;34m\u001b[0m\u001b[0;34m\u001b[0m\u001b[0;34m\u001b[0m\u001b[0m\n\u001b[1;32m    806\u001b[0m       \u001b[0;31m# defunned version which is guaranteed to never create variables.\u001b[0m\u001b[0;34m\u001b[0m\u001b[0;34m\u001b[0m\u001b[0;34m\u001b[0m\u001b[0m\n\u001b[0;32m--> 807\u001b[0;31m       \u001b[0;32mreturn\u001b[0m \u001b[0mself\u001b[0m\u001b[0;34m.\u001b[0m\u001b[0m_stateless_fn\u001b[0m\u001b[0;34m(\u001b[0m\u001b[0;34m*\u001b[0m\u001b[0margs\u001b[0m\u001b[0;34m,\u001b[0m \u001b[0;34m**\u001b[0m\u001b[0mkwds\u001b[0m\u001b[0;34m)\u001b[0m  \u001b[0;31m# pylint: disable=not-callable\u001b[0m\u001b[0;34m\u001b[0m\u001b[0;34m\u001b[0m\u001b[0m\n\u001b[0m\u001b[1;32m    808\u001b[0m     \u001b[0;32melif\u001b[0m \u001b[0mself\u001b[0m\u001b[0;34m.\u001b[0m\u001b[0m_stateful_fn\u001b[0m \u001b[0;32mis\u001b[0m \u001b[0;32mnot\u001b[0m \u001b[0;32mNone\u001b[0m\u001b[0;34m:\u001b[0m\u001b[0;34m\u001b[0m\u001b[0;34m\u001b[0m\u001b[0m\n\u001b[1;32m    809\u001b[0m       \u001b[0;31m# Release the lock early so that multiple threads can perform the call\u001b[0m\u001b[0;34m\u001b[0m\u001b[0;34m\u001b[0m\u001b[0;34m\u001b[0m\u001b[0m\n",
            "\u001b[0;32m/usr/local/lib/python3.6/dist-packages/tensorflow/python/eager/function.py\u001b[0m in \u001b[0;36m__call__\u001b[0;34m(self, *args, **kwargs)\u001b[0m\n\u001b[1;32m   2827\u001b[0m     \u001b[0;32mwith\u001b[0m \u001b[0mself\u001b[0m\u001b[0;34m.\u001b[0m\u001b[0m_lock\u001b[0m\u001b[0;34m:\u001b[0m\u001b[0;34m\u001b[0m\u001b[0;34m\u001b[0m\u001b[0m\n\u001b[1;32m   2828\u001b[0m       \u001b[0mgraph_function\u001b[0m\u001b[0;34m,\u001b[0m \u001b[0margs\u001b[0m\u001b[0;34m,\u001b[0m \u001b[0mkwargs\u001b[0m \u001b[0;34m=\u001b[0m \u001b[0mself\u001b[0m\u001b[0;34m.\u001b[0m\u001b[0m_maybe_define_function\u001b[0m\u001b[0;34m(\u001b[0m\u001b[0margs\u001b[0m\u001b[0;34m,\u001b[0m \u001b[0mkwargs\u001b[0m\u001b[0;34m)\u001b[0m\u001b[0;34m\u001b[0m\u001b[0;34m\u001b[0m\u001b[0m\n\u001b[0;32m-> 2829\u001b[0;31m     \u001b[0;32mreturn\u001b[0m \u001b[0mgraph_function\u001b[0m\u001b[0;34m.\u001b[0m\u001b[0m_filtered_call\u001b[0m\u001b[0;34m(\u001b[0m\u001b[0margs\u001b[0m\u001b[0;34m,\u001b[0m \u001b[0mkwargs\u001b[0m\u001b[0;34m)\u001b[0m  \u001b[0;31m# pylint: disable=protected-access\u001b[0m\u001b[0;34m\u001b[0m\u001b[0;34m\u001b[0m\u001b[0m\n\u001b[0m\u001b[1;32m   2830\u001b[0m \u001b[0;34m\u001b[0m\u001b[0m\n\u001b[1;32m   2831\u001b[0m   \u001b[0;34m@\u001b[0m\u001b[0mproperty\u001b[0m\u001b[0;34m\u001b[0m\u001b[0;34m\u001b[0m\u001b[0m\n",
            "\u001b[0;32m/usr/local/lib/python3.6/dist-packages/tensorflow/python/eager/function.py\u001b[0m in \u001b[0;36m_filtered_call\u001b[0;34m(self, args, kwargs, cancellation_manager)\u001b[0m\n\u001b[1;32m   1846\u001b[0m                            resource_variable_ops.BaseResourceVariable))],\n\u001b[1;32m   1847\u001b[0m         \u001b[0mcaptured_inputs\u001b[0m\u001b[0;34m=\u001b[0m\u001b[0mself\u001b[0m\u001b[0;34m.\u001b[0m\u001b[0mcaptured_inputs\u001b[0m\u001b[0;34m,\u001b[0m\u001b[0;34m\u001b[0m\u001b[0;34m\u001b[0m\u001b[0m\n\u001b[0;32m-> 1848\u001b[0;31m         cancellation_manager=cancellation_manager)\n\u001b[0m\u001b[1;32m   1849\u001b[0m \u001b[0;34m\u001b[0m\u001b[0m\n\u001b[1;32m   1850\u001b[0m   \u001b[0;32mdef\u001b[0m \u001b[0m_call_flat\u001b[0m\u001b[0;34m(\u001b[0m\u001b[0mself\u001b[0m\u001b[0;34m,\u001b[0m \u001b[0margs\u001b[0m\u001b[0;34m,\u001b[0m \u001b[0mcaptured_inputs\u001b[0m\u001b[0;34m,\u001b[0m \u001b[0mcancellation_manager\u001b[0m\u001b[0;34m=\u001b[0m\u001b[0;32mNone\u001b[0m\u001b[0;34m)\u001b[0m\u001b[0;34m:\u001b[0m\u001b[0;34m\u001b[0m\u001b[0;34m\u001b[0m\u001b[0m\n",
            "\u001b[0;32m/usr/local/lib/python3.6/dist-packages/tensorflow/python/eager/function.py\u001b[0m in \u001b[0;36m_call_flat\u001b[0;34m(self, args, captured_inputs, cancellation_manager)\u001b[0m\n\u001b[1;32m   1922\u001b[0m       \u001b[0;31m# No tape is watching; skip to running the function.\u001b[0m\u001b[0;34m\u001b[0m\u001b[0;34m\u001b[0m\u001b[0;34m\u001b[0m\u001b[0m\n\u001b[1;32m   1923\u001b[0m       return self._build_call_outputs(self._inference_function.call(\n\u001b[0;32m-> 1924\u001b[0;31m           ctx, args, cancellation_manager=cancellation_manager))\n\u001b[0m\u001b[1;32m   1925\u001b[0m     forward_backward = self._select_forward_and_backward_functions(\n\u001b[1;32m   1926\u001b[0m         \u001b[0margs\u001b[0m\u001b[0;34m,\u001b[0m\u001b[0;34m\u001b[0m\u001b[0;34m\u001b[0m\u001b[0m\n",
            "\u001b[0;32m/usr/local/lib/python3.6/dist-packages/tensorflow/python/eager/function.py\u001b[0m in \u001b[0;36mcall\u001b[0;34m(self, ctx, args, cancellation_manager)\u001b[0m\n\u001b[1;32m    548\u001b[0m               \u001b[0minputs\u001b[0m\u001b[0;34m=\u001b[0m\u001b[0margs\u001b[0m\u001b[0;34m,\u001b[0m\u001b[0;34m\u001b[0m\u001b[0;34m\u001b[0m\u001b[0m\n\u001b[1;32m    549\u001b[0m               \u001b[0mattrs\u001b[0m\u001b[0;34m=\u001b[0m\u001b[0mattrs\u001b[0m\u001b[0;34m,\u001b[0m\u001b[0;34m\u001b[0m\u001b[0;34m\u001b[0m\u001b[0m\n\u001b[0;32m--> 550\u001b[0;31m               ctx=ctx)\n\u001b[0m\u001b[1;32m    551\u001b[0m         \u001b[0;32melse\u001b[0m\u001b[0;34m:\u001b[0m\u001b[0;34m\u001b[0m\u001b[0;34m\u001b[0m\u001b[0m\n\u001b[1;32m    552\u001b[0m           outputs = execute.execute_with_cancellation(\n",
            "\u001b[0;32m/usr/local/lib/python3.6/dist-packages/tensorflow/python/eager/execute.py\u001b[0m in \u001b[0;36mquick_execute\u001b[0;34m(op_name, num_outputs, inputs, attrs, ctx, name)\u001b[0m\n\u001b[1;32m     58\u001b[0m     \u001b[0mctx\u001b[0m\u001b[0;34m.\u001b[0m\u001b[0mensure_initialized\u001b[0m\u001b[0;34m(\u001b[0m\u001b[0;34m)\u001b[0m\u001b[0;34m\u001b[0m\u001b[0;34m\u001b[0m\u001b[0m\n\u001b[1;32m     59\u001b[0m     tensors = pywrap_tfe.TFE_Py_Execute(ctx._handle, device_name, op_name,\n\u001b[0;32m---> 60\u001b[0;31m                                         inputs, attrs, num_outputs)\n\u001b[0m\u001b[1;32m     61\u001b[0m   \u001b[0;32mexcept\u001b[0m \u001b[0mcore\u001b[0m\u001b[0;34m.\u001b[0m\u001b[0m_NotOkStatusException\u001b[0m \u001b[0;32mas\u001b[0m \u001b[0me\u001b[0m\u001b[0;34m:\u001b[0m\u001b[0;34m\u001b[0m\u001b[0;34m\u001b[0m\u001b[0m\n\u001b[1;32m     62\u001b[0m     \u001b[0;32mif\u001b[0m \u001b[0mname\u001b[0m \u001b[0;32mis\u001b[0m \u001b[0;32mnot\u001b[0m \u001b[0;32mNone\u001b[0m\u001b[0;34m:\u001b[0m\u001b[0;34m\u001b[0m\u001b[0;34m\u001b[0m\u001b[0m\n",
            "\u001b[0;31mKeyboardInterrupt\u001b[0m: "
          ]
        }
      ]
    },
    {
      "cell_type": "code",
      "metadata": {
        "colab": {
          "base_uri": "https://localhost:8080/",
          "height": 545
        },
        "id": "dO69_K8SnkFB",
        "outputId": "4560c49f-71a0-4336-f31f-6c695e2ae3cb"
      },
      "source": [
        "import matplotlib.pyplot as plt\r\n",
        "\r\n",
        "acc = history.history['acc']\r\n",
        "val_acc = history.history['val_acc']\r\n",
        "loss = history.history['loss']\r\n",
        "val_loss = history.history['val_loss']\r\n",
        "\r\n",
        "epochs = range(1, len(acc) + 1)\r\n",
        "\r\n",
        "plt.plot(epochs, acc, 'bo', label='Training acc')\r\n",
        "#plt.plot(epochs, val_acc, 'b', label='Validation acc')\r\n",
        "plt.title('Training and validation accuracy')\r\n",
        "plt.legend()\r\n",
        "\r\n",
        "plt.figure()\r\n",
        "\r\n",
        "plt.plot(epochs, loss, 'bo', label='Training loss')\r\n",
        "#plt.plot(epochs, val_loss, 'b', label='Validation loss')\r\n",
        "plt.title('Training and validation loss')\r\n",
        "plt.legend()\r\n",
        "\r\n",
        "plt.show()"
      ],
      "execution_count": 74,
      "outputs": [
        {
          "output_type": "display_data",
          "data": {
            "image/png": "[encoded data removed]",
            "text/plain": [
              "<Figure size 432x288 with 1 Axes>"
            ]
          },
          "metadata": {
            "tags": [],
            "needs_background": "light"
          }
        },
        {
          "output_type": "display_data",
          "data": {
            "image/png": "[encoded data removed]",
            "text/plain": [
              "<Figure size 432x288 with 1 Axes>"
            ]
          },
          "metadata": {
            "tags": [],
            "needs_background": "light"
          }
        }
      ]
    },
    {
      "cell_type": "code",
      "metadata": {
        "colab": {
          "base_uri": "https://localhost:8080/"
        },
        "id": "FGPPK8BMS3RS",
        "outputId": "34930ec7-1eb1-4bc5-f2ab-441960d9297a"
      },
      "source": [
        "%ls"
      ],
      "execution_count": 53,
      "outputs": [
        {
          "output_type": "stream",
          "text": [
            "\u001b[0m\u001b[01;34msample_data\u001b[0m/   \u001b[01;34msmall_cloudstest\u001b[0m/   \u001b[01;34msmall_cloudsval\u001b[0m/\n",
            "\u001b[01;34msmall_clouds\u001b[0m/  \u001b[01;34msmall_cloudstrain\u001b[0m/\n"
          ],
          "name": "stdout"
        }
      ]
    },
    {
      "cell_type": "code",
      "metadata": {
        "colab": {
          "base_uri": "https://localhost:8080/",
          "height": 35
        },
        "id": "7-tRt6B4TZGP",
        "outputId": "f2f53b8b-1c14-44bb-c7bc-988d28701b7d"
      },
      "source": [
        "%pwd"
      ],
      "execution_count": 50,
      "outputs": [
        {
          "output_type": "execute_result",
          "data": {
            "application/vnd.google.colaboratory.intrinsic+json": {
              "type": "string"
            },
            "text/plain": [
              "'/content/small_clouds'"
            ]
          },
          "metadata": {
            "tags": []
          },
          "execution_count": 50
        }
      ]
    }
  ]
}